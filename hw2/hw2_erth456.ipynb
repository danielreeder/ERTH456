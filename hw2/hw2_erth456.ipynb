{
 "cells": [
  {
   "cell_type": "code",
   "execution_count": null,
   "id": "ea18cc1f-b878-42ed-9598-f1514539ff3f",
   "metadata": {},
   "outputs": [],
   "source": [
    "print(\"heelo world\")"
   ]
  },
  {
   "cell_type": "code",
   "execution_count": null,
   "id": "e72f9e07-1e8a-40ff-8eaa-27d3ee238477",
   "metadata": {},
   "outputs": [],
   "source": [
    "def test(): \n",
    "    print(\"Git test\")"
   ]
  }
 ],
 "metadata": {
  "kernelspec": {
   "display_name": "Python 3 (ipykernel)",
   "language": "python",
   "name": "python3"
  },
  "language_info": {
   "codemirror_mode": {
    "name": "ipython",
    "version": 3
   },
   "file_extension": ".py",
   "mimetype": "text/x-python",
   "name": "python",
   "nbconvert_exporter": "python",
   "pygments_lexer": "ipython3",
   "version": "3.11.5"
  }
 },
 "nbformat": 4,
 "nbformat_minor": 5
}
